{
 "cells": [
  {
   "cell_type": "code",
   "execution_count": 9,
   "id": "9401185e-3268-438f-8a0d-42338aa3d887",
   "metadata": {},
   "outputs": [],
   "source": [
    "#Lib\n",
    "import sqlite3\n",
    "\n",
    "#Criar um Banco de dados\n",
    "Conexao = sqlite3.connect('Banco_Dados.db')\n",
    "\n",
    "#Apontar\n",
    "Cursor = Conexao.cursor()\n"
   ]
  },
  {
   "cell_type": "code",
   "execution_count": 10,
   "id": "62329335-88cd-4cf4-858d-603d01f38901",
   "metadata": {},
   "outputs": [],
   "source": [
    "#Criar uma tabela\n",
    "\n",
    "Query = '''\n",
    "\n",
    "CREATE TABLE Tabela_Processamento(\n",
    "    Id_Rotina TEXT,\n",
    "    Nome_Rotina TEXT,\n",
    "    Usuario TEXT,\n",
    "    Maquina TEXT,\n",
    "    Sistema_Operacional TEXT,\n",
    "    Data_Inicio TEXT,\n",
    "    Horario_Inicio TEXT,\n",
    "    Teste_Conexao TEXT,\n",
    "    IP_Local TEXT,\n",
    "    Data_Termino TEXT,\n",
    "    Horario_Termino TEXT,\n",
    "    Tempo_Execucao TEXT,\n",
    "    Erro TEXT\n",
    ")\n",
    "'''\n",
    "\n",
    "#Executar\n",
    "\n",
    "Cursor.execute(Query)\n",
    "Conexao.commit()\n"
   ]
  },
  {
   "cell_type": "code",
   "execution_count": 11,
   "id": "09404f06-852e-453e-8090-c2d483abe40d",
   "metadata": {},
   "outputs": [],
   "source": [
    "Conexao.close()"
   ]
  },
  {
   "cell_type": "code",
   "execution_count": null,
   "id": "32e30f79-5bd4-414d-af55-6b049a1727a4",
   "metadata": {},
   "outputs": [],
   "source": []
  }
 ],
 "metadata": {
  "kernelspec": {
   "display_name": "Python 3 (ipykernel)",
   "language": "python",
   "name": "python3"
  },
  "language_info": {
   "codemirror_mode": {
    "name": "ipython",
    "version": 3
   },
   "file_extension": ".py",
   "mimetype": "text/x-python",
   "name": "python",
   "nbconvert_exporter": "python",
   "pygments_lexer": "ipython3",
   "version": "3.12.6"
  }
 },
 "nbformat": 4,
 "nbformat_minor": 5
}
